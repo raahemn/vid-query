{
  "cells": [
    {
      "cell_type": "code",
      "execution_count": 1,
      "metadata": {
        "id": "nG6m3Q9DBHV1"
      },
      "outputs": [],
      "source": [
        "from dotenv import load_dotenv\n",
        "import os\n",
        "\n",
        "load_dotenv(dotenv_path=\"./.env\", override=True) \n",
        "\n",
        "api_key = os.getenv(\"OPENAI_API_KEY\")\n"
      ]
    },
    {
      "cell_type": "markdown",
      "metadata": {
        "id": "33R54QYjCMAJ"
      },
      "source": [
        "## Install libraries"
      ]
    },
    {
      "cell_type": "code",
      "execution_count": null,
      "metadata": {
        "colab": {
          "base_uri": "https://localhost:8080/"
        },
        "id": "8F7iZIBmB8_T",
        "outputId": "8d8fd24d-3f8b-45db-de6c-5ef654e65a22"
      },
      "outputs": [],
      "source": [
        "!pip install -q youtube-transcript-api langchain-community langchain-openai \\\n",
        "               faiss-cpu tiktoken python-dotenv"
      ]
    },
    {
      "cell_type": "code",
      "execution_count": 2,
      "metadata": {
        "id": "hPcswe0tExci"
      },
      "outputs": [],
      "source": [
        "from youtube_transcript_api import YouTubeTranscriptApi, TranscriptsDisabled\n",
        "from langchain.text_splitter import RecursiveCharacterTextSplitter\n",
        "from langchain_openai import OpenAIEmbeddings, ChatOpenAI\n",
        "from langchain_community.vectorstores import FAISS\n",
        "from langchain_core.prompts import PromptTemplate\n",
        "from youtube_transcript_api._errors import NoTranscriptFound, TranscriptsDisabled"
      ]
    },
    {
      "cell_type": "markdown",
      "metadata": {
        "id": "0ZZrs-ijCTYt"
      },
      "source": [
        "## Step 1a - Indexing (Document Ingestion)"
      ]
    },
    {
      "cell_type": "code",
      "execution_count": null,
      "metadata": {
        "colab": {
          "base_uri": "https://localhost:8080/"
        },
        "id": "1p9AXZycFIH6",
        "outputId": "74950ea5-66f9-4242-bf72-7b2d2ba3aaa7"
      },
      "outputs": [
        {
          "name": "stdout",
          "output_type": "stream",
          "text": [
            "✅ Using transcript in preferred language: en\n",
            "\n",
            "📄 Final Transcript Preview:\n",
            " Who's faster? A cheetah or one of\n",
            "the fastest cars in the world? Can a man beat a bear in\n",
            "a fight? Can a tiger beat the world-record\n",
            "high jumper? We're gonna answer all of these\n",
            "and more— starting with the strongest man\n",
            "in the world. And he's about to test his strength\n",
            "against a 500-pound lion in a game of\n",
            "tug-of-war. Any last words? It's go time. 3, 2, 1… Go! Alright and\n",
            "we’re off. Oh my gosh!\n",
            "Look at his mouth! Look at that\n",
            "brute strength. Oh my gosh. The lion’s literally holding\n",
            "the strongest man in the world back right now! Wait, what is he doing? Did that lion just\n",
            "turn around? It looks like he's trying to\n",
            "wear Brian out. Here's Brian pulling\n",
            "a literal plane. But right now, he cannot get\n",
            "this lion to budge. He’s starting\n",
            "to struggle! Brian's actually\n",
            "doing this! Oh, ok. Ok. You got like\n",
            "3 feet left. You're almost\n",
            "there! Brian, you’re almost\n",
            "there! Brian won! Brian won, congrats! Yes! Brian just won! Did you have fun? Oh, ok.\n",
            "I just— I won't talk to him.\n",
            "That's fine. But that's jus\n"
          ]
        }
      ],
      "source": [
        "video_id = \"FWAdfuPpLOc\" # mr beast's latest video id ... lol\n",
        "preferred_languages = [\"en\"]\n",
        "\n",
        "try:\n",
        "    transcripts = YouTubeTranscriptApi.list_transcripts(video_id)\n",
        "\n",
        "    try:\n",
        "        transcript_obj = transcripts.find_transcript(preferred_languages)\n",
        "        print(\"✅ Using transcript in preferred language:\", transcript_obj.language_code)\n",
        "        transcript = transcript_obj.fetch()\n",
        "\n",
        "    except NoTranscriptFound:\n",
        "        print(\"⚠️ Preferred language not found. Trying fallback...\")\n",
        "\n",
        "        if transcripts._generated_transcripts:\n",
        "            fallback_obj = list(transcripts._generated_transcripts.values())[0]\n",
        "            print(\"✅ Using fallback transcript:\", fallback_obj.language_code)\n",
        "            transcript = fallback_obj.fetch()\n",
        "        else:\n",
        "            print(\"❌ No generated transcripts available.\")\n",
        "            transcript = None\n",
        "\n",
        "    if transcript:\n",
        "        if hasattr(transcript, \"snippets\"):\n",
        "            # ✅ THIS IS WHAT YOU HAVE\n",
        "            text = \" \".join(snippet.text for snippet in transcript.snippets)\n",
        "        elif isinstance(transcript, list):\n",
        "            text = \" \".join(chunk[\"text\"] for chunk in transcript)\n",
        "        elif hasattr(transcript, \"to_list\"):\n",
        "            text = \" \".join(chunk[\"text\"] for chunk in transcript.to_list())\n",
        "        else:\n",
        "            raise TypeError(\"Unsupported transcript format\")\n",
        "\n",
        "        print(\"\\n📄 Final Transcript Preview:\\n\", text[:1000])  # show a snippet\n",
        "    else:\n",
        "        print(\"❌ No transcript found.\")\n",
        "\n",
        "except TranscriptsDisabled:\n",
        "    print(\"❌ Transcripts are disabled for this video.\")\n",
        "except Exception as e:\n",
        "    print(f\"❌ Unexpected error: {e}\")\n"
      ]
    },
    {
      "cell_type": "code",
      "execution_count": 4,
      "metadata": {
        "colab": {
          "base_uri": "https://localhost:8080/"
        },
        "id": "oWSK4-VQH8CG",
        "outputId": "01528517-4192-4620-f234-97055e4b6655"
      },
      "outputs": [
        {
          "data": {
            "text/plain": [
              "'Who\\'s faster? A cheetah or one of\\nthe fastest cars in the world? Can a man beat a bear in\\na fight? Can a tiger beat the world-record\\nhigh jumper? We\\'re gonna answer all of these\\nand more— starting with the strongest man\\nin the world. And he\\'s about to test his strength\\nagainst a 500-pound lion in a game of\\ntug-of-war. Any last words? It\\'s go time. 3, 2, 1… Go! Alright and\\nwe’re off. Oh my gosh!\\nLook at his mouth! Look at that\\nbrute strength. Oh my gosh. The lion’s literally holding\\nthe strongest man in the world back right now! Wait, what is he doing? Did that lion just\\nturn around? It looks like he\\'s trying to\\nwear Brian out. Here\\'s Brian pulling\\na literal plane. But right now, he cannot get\\nthis lion to budge. He’s starting\\nto struggle! Brian\\'s actually\\ndoing this! Oh, ok. Ok. You got like\\n3 feet left. You\\'re almost\\nthere! Brian, you’re almost\\nthere! Brian won! Brian won, congrats! Yes! Brian just won! Did you have fun? Oh, ok.\\nI just— I won\\'t talk to him.\\nThat\\'s fine. But that\\'s just the first of\\nseven challenges that will test man\\nversus animal. Up next, we have the highest\\nvertical leaper on the planet. No joke.\\nThat\\'s his Guinness World Record. Of all 8 billion humans alive,\\nnone can jump higher than him. And he\\'s gonna be going against this\\ntiger to see who can jump higher… man or animal. Team Human.\\nLet’s go. Look at that majestic beast. Do you actually think you\\ncan out-jump that? I’m not gonna lie. If she jumps 13,\\nI’m jumping 13. Oh, look how she\\'s looking at him.\\nShe\\'s scoping you out. Is that a threat? She doesn\\'t speak\\nEnglish. I say we get into it. They’re gonna use this meat\\nto lure her and see if they can get her\\nto jump. - Let me see what you got, Luna.\\n- Oh, she wants it. Here it is. Here comes\\nthe jump. How high will the tiger\\njump? Oh my gosh! Now, if you can somehow jump\\nhigher than the tiger… I want it to be because you beat\\nyour own world record. So I\\'m not putting this\\nat 10 ft, 9 in. I\\'m going to put it\\nat 12 ft, 3 in. Exactly 1 inch higher than\\nyour Guinness World Record. If he manages to touch this,\\nnot only will he decimate the tiger, but he will set\\na new world record. I mean, I think I got it.\\n12\\' 3\"? - Yeah.\\n- I don\\'t see why not. I’m gonna be honest,\\nI think Darius is lying. I\\'m not gonna lie,\\nI dang near think I\\'m lying. This does not seem\\nhumanly possible. For the world record attempt.\\nAre you ready? Let’s get it. Let\\'s see if you can set\\nthat world record! Luna, this is for you. Can he do it? Oh my gosh!\\nWhoa, he crushed it! That was crazy! Luna, what are you gonna\\nsay to that? Bro, you just jumped higher than\\nanyone in history. And you seem chill. Ah, I feel like\\nI can go higher. - I\\'m not gonna lie to you.\\n- Oh my gosh, this guy. I feel like I could go higher. You just set a world record.\\nHe\\'s like, \"Oh, I could go higher.\" Brian beat a lion.\\nDarius beat a tiger. Animals need to\\nstart winning. Team Human.\\nLet\\'s go. I think Team Human is going to have\\na much harder time with this next\\ncompetition. We are now in a bull arena\\nwith Bubba. Hello. - Bubba is a bull rider.\\n- Yes, sir. We are gonna release 3 bulls\\nin this arena. 3 bulls? You need to carry as many bags of\\nmoney as you can all the way to the other side\\nof the arena, with 3 bulls chasing you\\nin the process. Every dollar you get in the bucket\\nin the next 3 minutes, you keep. - I\\'m ready, Jimmy.\\n- Good luck. Release the bulls! Here they come! Bubba, please\\ndon\\'t die. They\\'re through the gate,\\nand they\\'re coming right at him. Ok. Oh, they\\'re\\nchasin’ him! Oh! Oh, they went right\\npast him. Take the money, Bubba!\\nKeep going! Go! He lost his hat. He\\'s already secured\\n$10,000… Bubba!\\nBehind you! …but how long can he stay clear\\nof the bulls? Alright, here we go. He just got 2 more bags. - They\\'re right behind you!\\n- Run, Bubba, run! Oh my gosh. I\\'d be terrified to be anywhere\\nnear those bulls. Oh! They\\'re coming right\\ntowards us. Wait, no.\\nGo after him. Not me! Meanwhile, Bubba is somehow laughing while 3 bulls are barreling\\ntowards him. This guy\\'s way too chill to be running around with 3 bulls\\nthat weigh 1,500 lbs each. ‘Bout to touch him\\nright on the head. He\\'s adopting a strategy of\\nscaring the bulls away? This is hard! Note to self: don\\'t do these things\\nwith professionals. He literally breezed through\\nthis challenge. - Woah, he did it!\\n- There you go. You won! - Congrats on winning $50,000!\\n- Thank you. What\\'re you gonna spend\\nthe money on? Probably\\na new truck. Why am I not\\nsurprised? But what will surprise you is who\\nwins the race later in this video. But this next challenge has\\n2 creatures built to shatter every bone\\nin your body. Alright, Nick. Come through\\nthese doors. I\\'m terrified. This is Nick, who you might remember from his race\\nagainst the fastest man on the planet where, even with a mile headstart,\\nhe still lost to Noah Lyles. And today, I\\'m gonna be giving him\\na second chance at something\\na little more deadly. In front of you. Just— I can\\'t, bro.\\nI can\\'t touch, bro. - Trust me.\\n- No, no. In front of you… - Bro…\\n- Bro, bro— When you see this footage, you\\'re\\ngonna realize how dumb you\\'re being. - What is it, bro? Ok?\\n- It\\'s literally $100,000. Ok. He lost against Noah Lyles,\\nso he\\'s not— he doesn\\'t know what large sums of\\nmoney feels like. I did. To win this\\n$100,000, you must choose to survive 1 minute\\nin the ring with either— Take off your\\nblindfold. Ramy, a 500-lb professional\\nsumo wrestler… Why are you doing—\\nWhy is he doing the… Or… Turn around. A minute in the ring\\nwith this bear. Oh my God—\\nBruh, yo! Ok. Why is he there? And if you think that\\nthis bear is harmless… don\\'t. Because he can literally tear\\nan average human to shreds. Thing’s big, bro. Tom, how you doing? He\\'s— Ok, don\\'t look at\\nhim too long. It\\'s time for a decision.\\n$100,000 on the line. You want to wrestle a sumo wrestler\\nor a grizzly bear? Oh, he\\'s coming towards you.\\nHe\\'s excited. It\\'s mobile now. Ok, I\\'m not going back to the bear.\\nHe\\'s up. Jesus. Alright.\\nLet\\'s go with you, bro. You\\'re picking him? I mean, I have to. What do you mean?\\nIt\\'s a big grizzly bear. You have your life insurance\\nwith you? I don\\'t. And so Nick doesn\\'t\\nliterally die, I brought an actual sumo coach\\nto suit him up for the match. See if you can bend your knees.\\nSlide your feet. Are you ready? Step in the ring! Come on. You\\'re good.\\nCome here. Come to the middle. In order to win this\\nchallenge Nick, you\\'ll have to wrestle Ramy\\nfor 1 minute without crossing over\\nthe red circle. If you get pushed outside of\\nthe circle before the minute is over, you will once again\\nlose everything. Touch your fist to the ground\\nto begin the match. Are you mentally stable? You\\'re in too deep now, Nick.\\nLet\\'s do this. Oh my God… Did you hear that? Bro, he\\'s making sounds\\nworse than Tom! - Nick, touch the ground.\\n- Wait up! Wait up. Touch the ground, Nick! Go! Ok, alright.\\nOk, ok. Alright, the timer\\'s off. - Fight back, Nick.\\n- Wait, one second. Nick! Fight back, Nick! Fight back! Go for his belt, Nick! Nick! He’s suffocating me! He\\'s toying with him.\\nIt\\'s nothing but a game. Nick, you made it\\n15 seconds. Are you just hugging him?\\nWhat\\'re you doing? 20 seconds! Nick, you\\'re almost\\nhalfway done. Nick! No!\\nFight back, Nick. Nick, fight back!\\nFight back, Nick! 20 seconds! Nick! You’ve almost\\nwon the money, Nick! Oh my God, he\\'s toying with him.\\nIt\\'s a photo finish. 5 seconds! 3, 2, 1… He went over\\nthe line. Are you good? You literally grabbed the side and\\nreached out before the minute ended. Bro, this guy\\'s an animal\\nlooking like a human. You lost to the fastest man\\non earth. You\\'ve now lost to the best\\nsumo wrestler on Earth. I feel bad.\\nSo… I\\'m gonna give him $10,000\\nfor winning! Loser. Whoa! That\\'s crazy. - Loser. Loser.\\n- I want to see you outside. I say we jump into what might\\nliterally be the biggest challenge\\nof this entire video. And to lighten things up, I decided\\nto bring out comedian Trevor Wallace. Trevor, take off\\nyour blindfold! Are we gonna address\\nthe elephant in the room? This elephant is the best painting\\nelephant on the planet. Which is exactly why,\\nfor our next challenge, we\\'ll be doing\\na paint-off. Both of you will have 10 minutes to\\npaint whatever creation you want. Whichever one of you draws\\na better painting will have your masterpiece hung up in\\nan actual art museum. May the best— May the best elephant win. Hey, stop eating grass! If you don\\'t want to mow your lawn,\\njust buy an elephant. Oh. She just smacked me\\nwith her ear. She\\'s trying to paint.\\nHere, give us a second. She needs a head start. Go ahead and go to your painting.\\nShe can\\'t wait to start. 3, 2, 1… Start the timer! This is the first time ever\\non this channel that we\\'ve had\\nan elephant paint, so we\\'re gonna hide the artwork\\nuntil the end. Paint?\\nOh, not me. Jimmy, what do you want me\\nto paint? A giant school. I got you. Ok, so we\\'re going to start with\\na nice yellow, copper tone. That\\'s the color you\\'re\\ngoing with? Dude, what colors\\nare schools? Oh. There we go. Oh, she dropped it. We\\'ll give her some\\nmotivation. Orange. How come the elephant gets fed,\\nand you guys aren\\'t feeding me? No Feastables,\\nno nothing? Can we get some\\nFeastables? Less talking, more painting.\\nEat this. I hope it’s not chocolate.\\nI\\'m allergic. Huh? Alright. 5 minutes\\nleft, Trevor. Yes, yes! Can I get my\\nBob Ross wig? He\\'s locking in. Bob Floss right here. Let\\'s clutch up.\\nLet\\'s go. We can\\'t lose to\\nthis guy. Oh, yes!\\nGood girl! - How much time do I have?\\n- Uh, 4 minutes. Hey, time\\'s ticking,\\nBob Ross. Yeah. Right now, that is\\na yellow blob. No, no.\\nIt\\'s a G-Wagon. Look at that! Alright, go!\\nPaint! Oh! Not me.\\nPaint that thing. And the road,\\nthe road. - You gotta get a sun going.\\n- Here, gimme yellow. Whabam!\\nJuilliard! We got 2 mins left so we\\'ll clock in.\\nLet\\'s lock in. You\\'re doing great. She did not like\\nthat paintbrush. Trevor, we’re running\\nout of time. - Dude, this is so bad.\\n- Believe in your art. These were supposed to be bricks,\\nnot windows. I’m gonna help you out.\\nWe\\'re running out of time. I feel like a firefighter with\\nthe hose. Let\\'s go. One minute left!\\nWe might actually win. You might actually lose\\nto an elephant. I feel like I\\'m painting at\\na funeral. Now, this is her signature move\\nthat she puts on all her artwork. - Three…\\n- Just keep going. - Two…\\n- Oh! That was a mistake. That was a fumble. One! Time is up! No! He didn’t finish! But before we judge these\\nworks of art… Coming up, we have\\na literal cheetah racing one of the fastest cars\\nin the world. But for now, I brought in\\na professional with over 30 years of experience\\nto judge these paintings. And now, on\\na scale 1 to 10… One being bad.\\nTen being good— - Two.\\n- Two? - Two.\\n- Ok. It feels a little bit\\nadolescent, so maybe someone\\'s getting in touch\\nwith their inner child. Woah, ho-ho! Talk about the art,\\nnot the artist! Hey! No influencing the judge. And now to reveal the masterpiece of\\nthe world\\'s best painting elephant… Are we really gonna grade this?\\nThis looks like a clown threw up. She painted this\\non her own. What are your\\nthoughts on it? I feel a lot of joy in\\nthis particular painting, but I see that they\\'re being\\nhonest to who they are. You can\\'t separate the art\\nfrom the artist. What do you rate this art piece\\nout of 10? I would give her\\nan 8 out of 10. Whoa! Trevor, you lost to\\nan elephant. Whatever, man. Your competitor is literally hitting\\na Fortnite emote. How does that\\nmake you feel? Alright, you\\'re good.\\nRest… Go back to\\nRainforest Cafe. And as promised, here\\'s Isla’s painting hanging\\nin a real art museum. Exquisite. I wonder if any of\\nthese people realize this was painted by\\nan elephant. Anyway, for this\\nnext challenge, we have the most advanced soldiers\\non the planet. How long would it take you guys\\nto kill me? - 30 seconds.\\n- They\\'re very scary men. And we\\'re gonna see\\nhow long they can hide in this massive junkyard\\nfrom Odin, one of the best search dogs\\non the planet. How long do you think\\nthey’ll last? Probably about 5 minutes. And if any of you can evade\\nthese dogs until morning, you\\'ll split $50,000 - Yeah!\\n- Let\\'s go. Alright. 10 minutes to hide. 3, 2, 1… Go!\\nHave fun! While these men spent half of\\ntheir lives evading enemy capture, these dogs have been trained since\\nbirth to seek out humans. So I will be shocked if these guys\\ncan survive until morning. Get over to our\\nhiding spot here. I just gotta evade these\\ndogs the longest. These guys are running around\\nlike a bunch of fools. I\\'m not gonna sweat. Rub up on some of these vehicles\\njust to get my scent. They’re all probably doing\\nzigzags and rubbing up against as many\\nvehicles as they can.  While Johnny created false flags\\nby rubbing up against cars. Carlos— I found some water! decided to mask\\nhis scent. Here we go! He literally dunked himself in\\nthe river hoping to throw them off. Now I’m going back to\\nmy hiding spot. Most of these guys had\\nthe same strategy. Create a diversion for the dog,\\nthen hide in a car. Gotta find the right spot. While one of them had\\na different idea. Hey, what\\'s up? So I\\'m sitting up\\nin a tree about 50 ft up. And the only tree in-play. Here\\'s the whole yard where\\neverybody\\'s hiding. I just pray that God will hide\\nmy scent. Hopefully they\\ndon’t find me. The 10 minute timer is up!\\nWe\\'re coming to find you. Here they go.\\nYou can hear the dog. 3, 2, 1… Release the hounds! - And they were off. Let\\'s go.\\n- Alright, we\\'re good? Yep. Watch the dog\\nand his behavior. You\\'ll see it when he\\ncatches that odor. You’ll see his nose\\ngoes up. How can dogs smell\\nthis good? It\\'s called their olfactors. The longer the snout, the more\\nolfactors that these dogs have. It’s nice and windy up here so\\nthey shouldn’t be able to smell me. I know it’s a win for me because\\nI’m not near the ground. Remember, this is\\na very large area. So the dog has to systematically\\ndecipher what odor is a person. And what\\'s just somebody who\\nwalked through here earlier. Alert! Alright. Standby. Sage might’ve found\\nsomething. Oh, the doors are\\nunlocked. Yo! - They got me.\\n- You\\'re the first one found. Oh my God. The dog’s barking over there,\\nso they must’ve found somebody. Yo! That\\'s crazy. Sage might’ve scanned\\n4— 500 cars. This is the only car that Sage\\nbarked at, and he was in it! If it makes you\\nfeel better, everyone who gets found is getting\\na Lenovo Legion Pro 7i powered by Intel Core\\nultra 9. These laptops are beasts, but we still got 4 more people\\nwe need to find. Let\\'s keep going. On our Lenovo Legion laptop\\npowered by Intel, we have a map of\\nthe junkyard. We\\'re gonna search\\nover there. Go over to the bus,\\nsee if we find someone. - If not, rendezvous up.\\n- Yep. Ok, we got\\na game plan. They’re coming my way,\\nso I gotta kill the light. Oh, he\\'s on the hunt. I’m gonna call an alert\\non this van! Oh, wait. Sage is barking\\nat this car. Sage, is it this one? Step back. Alright, is anyone\\ninside— - Oh!\\n- You got me. You could’ve just\\nopened the door. Two down.\\nSage is crushing! I\\'m sorry, but you\\'ve lost\\n$50,000. But don\\'t worry, you\\'ll be able to overcome any\\nobstacle with this brand new laptop. That\\'s the power of Lenovo\\nwith Intel inside. Nice. Thank you. Alright. Let\\'s keep\\nhunting, Byron. Alright, #2 has been found,\\nwhich was close to me, which could throw\\nthe dog off. I mean he may not find me because\\nhe just found somebody close to me. The dogs came super close\\nto finding the marine. Becky and Sage just\\nwalked by. Oh my gosh, they walked\\nbeside the car. Didn’t find him.\\nHoly cow! But then something completely\\nunexpected happened. I don\\'t know how they did it, but somehow the dogs could not find\\nthese guys. One of the guys threw\\na Redbull can in here. What we have here is\\na false find. Somebody came here\\nand has left. Their trap worked. Thank you, Lenovo and Intel,\\nfor giving us these computers. And if you guys are interested in\\nbuying one for yourselves, just go to this website right here\\nor click the link in the description. Even after searching for hours,\\nit was like the soldiers disappeared. The dogs have been looking all night,\\nand now the sun is coming up. We can\\'t find these\\npeople. It’s 5:30 in\\nthe morning. It\\'s obviously getting\\nlighter out. There\\'s about 3 of us\\nstill out here. But then, mere moments before\\nwe ended the challenge… Alright, they’re really close\\nright now. Is he in there? Is there anybody\\nin this truck? - Someone’s in the back!\\n- We got somebody! Got me. You might be\\na little hungry. I actually got you a Feastables\\nPeanut Butter Cup. Let me know what you think. Oh yeah. That\\'s a 10\\nright there. Come on. And with the time\\nfinally up, the 2 winners emerged from\\ntheir hiding spots. It\\'s a good one. Oh, that was\\na long night. Congrats to them on\\nsplitting $50,000. And now, the moment you\\'ve\\nall been waiting for. After the most insane\\nman vs. animal competitions, it all comes down to\\nthis final challenge. This cheetah is gonna race\\nthe fastest car on earth. Let\\'s see who wins—\\nOh, cheetah! Alright, I\\'ll get it\\nto come back. This cheetah reigns as the literal\\nfastest land animal on the planet. Clocking speeds\\nso intense, that humans need the speed of\\na Formula E race car to stand a chance. Which is exactly why I brought not\\njust 1 but 3 cars to try and beat it. All starting with\\nthis golf cart vs. cheetah. Oh, look at that thing. Ready boys? - Let\\'s do this.\\n- Yup! 3, 2, 1… Send the cheetah! Oh my God,\\nit\\'s so fast! Oh, it\\'s not even\\nclose. It\\'s crushing us. We’re getting left\\nin the dust! I can\\'t even see it anymore,\\nit\\'s gone. The cheetah literally\\nalready finished, and we\\'re still halfway\\nthrough the race. This is embarrassing. Sir! Cheetah, you didn\\'t even give us\\na fighting chance. We need something faster.\\nBring out the next car! We all knew a golf cart wasn\\'t going\\nto beat this cheetah. But for this next race,\\nI spared no expense in acquiring one of the most\\nbeautiful cars in automotive history. Minivan vs. cheetah. Go! Oh, here we go. - Go, Jimmy! Drive!\\n- Oh, what is this acceleration? - You gotta speed up faster!\\n- What\\'re you doing? I have literally gas\\nall the way to the floor. It is gone! This thing does not\\naccelerate. Why’d we choose\\na minivan? This is embarrassing. We already lost. What are we doing? Wait, cheetah! Cheetah! You\\'re supposed to cross\\nthe finish line. The cheetah stopped conveniently\\nright before. Oh, there it is. It\\'s teasing us. I guess that\\'s what can happen when\\nyou work with animals. - It felt sorry for us.\\n- Yeah. But before this cheetah races\\na Formula E car, we need to prevent it\\nfrom overheating. Which meant we somehow\\ngot to do this. I wanted to say hi\\nto the cheetah. I\\'m good, thanks. - Millie— I touched the cheetah.\\n- Oh my God, bro. For whatever reason, they actually let us hang out\\nwith this apex predator. I can\\'t believe we\\'re just\\nnext to this right now. Come here, Millie. I can\\'t believe I\\'m literally calling\\na cheetah over to me. It is so big. Give it a pet, Nolan. Nolan, stop touching it.\\nIt did not like when you touched it. You guys are actually crazy. Oh my gosh, this cheetah\\'s literally\\nexactly like a giant cat. You’re so cute! We\\'re giving the cheetah a little bit\\nof a break in between the race, that way it\\'s not too\\nout of breath. And in case you guys\\nare curious, we partnered with\\nthe American Humane Society, which is basically making sure\\nthat all the animals are being ethically treated\\nwhile we\\'re filming this video. That\\'s because today there are less\\nthan 8,000 cheetahs living on earth, which is why it\\'s important to me\\nthat all of these endangered animals are treated very carefully\\non our set. It\\'s so soft! The cheetah is purring\\ninsanely loud. That means it\\nlikes us. It looks like Millie is ready for\\nthe next race. Let\\'s get this on\\nthe road. It\\'s finally time for the moment\\nwe\\'ve all been waiting for. What you\\'re about to witness is the\\nultimate showdown of man vs. animal. This race is so monumental,\\nin fact, that if anyone is going to ruin it,\\nit might as well be Nolan. Let\\'s answer the most important\\nquestion in modern history… - Three!\\n- Can a cheetah…. - Two!\\n- …outrace a Formula E car? One! Let\\'s find out. Go! That was so fast. The car just flew past\\nthe cheetah! Oh my God! Although Millie\\ndidn\\'t win, it is crazy to me that\\na cheetah can hold its own against the same car used in\\nthe Formula E World Championship. But when the first car was made\\nmore than a century ago, over 100,000 cheetahs were\\nalive in the wild. But today with less than\\n8,000 remaining, it\\'s our job to protect these extraordinary\\ncreatures from extinction, so that they can keep inspiring us\\nall to push beyond our limits. Millie is like the sweetest animal\\nI\\'ve ever met.'"
            ]
          },
          "execution_count": 4,
          "metadata": {},
          "output_type": "execute_result"
        }
      ],
      "source": [
        "text"
      ]
    },
    {
      "cell_type": "markdown",
      "metadata": {
        "id": "eKkcYsaOCrRX"
      },
      "source": [
        "## Step 1b - Indexing (Text Splitting)"
      ]
    },
    {
      "cell_type": "code",
      "execution_count": 5,
      "metadata": {
        "id": "24i-ZSVXFbnC"
      },
      "outputs": [],
      "source": [
        "splitter = RecursiveCharacterTextSplitter(chunk_size=1000, chunk_overlap=200)\n",
        "chunks = splitter.create_documents([text])"
      ]
    },
    {
      "cell_type": "code",
      "execution_count": 6,
      "metadata": {
        "colab": {
          "base_uri": "https://localhost:8080/"
        },
        "id": "4Dm9sfpQFnF1",
        "outputId": "7b9bea3d-b5a4-47f1-f793-16b6bfdd6a7b"
      },
      "outputs": [
        {
          "data": {
            "text/plain": [
              "26"
            ]
          },
          "execution_count": 6,
          "metadata": {},
          "output_type": "execute_result"
        }
      ],
      "source": [
        "len(chunks)"
      ]
    },
    {
      "cell_type": "code",
      "execution_count": 7,
      "metadata": {
        "colab": {
          "base_uri": "https://localhost:8080/"
        },
        "id": "mYlrcBrkFO-N",
        "outputId": "b6e33df4-c8a2-4c2d-f929-4af59774bd94"
      },
      "outputs": [
        {
          "data": {
            "text/plain": [
              "[Document(metadata={}, page_content=\"Who's faster? A cheetah or one of\\nthe fastest cars in the world? Can a man beat a bear in\\na fight? Can a tiger beat the world-record\\nhigh jumper? We're gonna answer all of these\\nand more— starting with the strongest man\\nin the world. And he's about to test his strength\\nagainst a 500-pound lion in a game of\\ntug-of-war. Any last words? It's go time. 3, 2, 1… Go! Alright and\\nwe’re off. Oh my gosh!\\nLook at his mouth! Look at that\\nbrute strength. Oh my gosh. The lion’s literally holding\\nthe strongest man in the world back right now! Wait, what is he doing? Did that lion just\\nturn around? It looks like he's trying to\\nwear Brian out. Here's Brian pulling\\na literal plane. But right now, he cannot get\\nthis lion to budge. He’s starting\\nto struggle! Brian's actually\\ndoing this! Oh, ok. Ok. You got like\\n3 feet left. You're almost\\nthere! Brian, you’re almost\\nthere! Brian won! Brian won, congrats! Yes! Brian just won! Did you have fun? Oh, ok.\\nI just— I won't talk to him.\"),\n",
              " Document(metadata={}, page_content=\"3 feet left. You're almost\\nthere! Brian, you’re almost\\nthere! Brian won! Brian won, congrats! Yes! Brian just won! Did you have fun? Oh, ok.\\nI just— I won't talk to him.\\nThat's fine. But that's just the first of\\nseven challenges that will test man\\nversus animal. Up next, we have the highest\\nvertical leaper on the planet. No joke.\\nThat's his Guinness World Record. Of all 8 billion humans alive,\\nnone can jump higher than him. And he's gonna be going against this\\ntiger to see who can jump higher… man or animal. Team Human.\\nLet’s go. Look at that majestic beast. Do you actually think you\\ncan out-jump that? I’m not gonna lie. If she jumps 13,\\nI’m jumping 13. Oh, look how she's looking at him.\\nShe's scoping you out. Is that a threat? She doesn't speak\\nEnglish. I say we get into it. They’re gonna use this meat\\nto lure her and see if they can get her\\nto jump. - Let me see what you got, Luna.\\n- Oh, she wants it. Here it is. Here comes\\nthe jump. How high will the tiger\"),\n",
              " Document(metadata={}, page_content='to lure her and see if they can get her\\nto jump. - Let me see what you got, Luna.\\n- Oh, she wants it. Here it is. Here comes\\nthe jump. How high will the tiger\\njump? Oh my gosh! Now, if you can somehow jump\\nhigher than the tiger… I want it to be because you beat\\nyour own world record. So I\\'m not putting this\\nat 10 ft, 9 in. I\\'m going to put it\\nat 12 ft, 3 in. Exactly 1 inch higher than\\nyour Guinness World Record. If he manages to touch this,\\nnot only will he decimate the tiger, but he will set\\na new world record. I mean, I think I got it.\\n12\\' 3\"? - Yeah.\\n- I don\\'t see why not. I’m gonna be honest,\\nI think Darius is lying. I\\'m not gonna lie,\\nI dang near think I\\'m lying. This does not seem\\nhumanly possible. For the world record attempt.\\nAre you ready? Let’s get it. Let\\'s see if you can set\\nthat world record! Luna, this is for you. Can he do it? Oh my gosh!\\nWhoa, he crushed it! That was crazy! Luna, what are you gonna\\nsay to that? Bro, you just jumped higher than'),\n",
              " Document(metadata={}, page_content='that world record! Luna, this is for you. Can he do it? Oh my gosh!\\nWhoa, he crushed it! That was crazy! Luna, what are you gonna\\nsay to that? Bro, you just jumped higher than\\nanyone in history. And you seem chill. Ah, I feel like\\nI can go higher. - I\\'m not gonna lie to you.\\n- Oh my gosh, this guy. I feel like I could go higher. You just set a world record.\\nHe\\'s like, \"Oh, I could go higher.\" Brian beat a lion.\\nDarius beat a tiger. Animals need to\\nstart winning. Team Human.\\nLet\\'s go. I think Team Human is going to have\\na much harder time with this next\\ncompetition. We are now in a bull arena\\nwith Bubba. Hello. - Bubba is a bull rider.\\n- Yes, sir. We are gonna release 3 bulls\\nin this arena. 3 bulls? You need to carry as many bags of\\nmoney as you can all the way to the other side\\nof the arena, with 3 bulls chasing you\\nin the process. Every dollar you get in the bucket\\nin the next 3 minutes, you keep. - I\\'m ready, Jimmy.\\n- Good luck. Release the bulls! Here they come! Bubba, please'),\n",
              " Document(metadata={}, page_content=\"in the process. Every dollar you get in the bucket\\nin the next 3 minutes, you keep. - I'm ready, Jimmy.\\n- Good luck. Release the bulls! Here they come! Bubba, please\\ndon't die. They're through the gate,\\nand they're coming right at him. Ok. Oh, they're\\nchasin’ him! Oh! Oh, they went right\\npast him. Take the money, Bubba!\\nKeep going! Go! He lost his hat. He's already secured\\n$10,000… Bubba!\\nBehind you! …but how long can he stay clear\\nof the bulls? Alright, here we go. He just got 2 more bags. - They're right behind you!\\n- Run, Bubba, run! Oh my gosh. I'd be terrified to be anywhere\\nnear those bulls. Oh! They're coming right\\ntowards us. Wait, no.\\nGo after him. Not me! Meanwhile, Bubba is somehow laughing while 3 bulls are barreling\\ntowards him. This guy's way too chill to be running around with 3 bulls\\nthat weigh 1,500 lbs each. ‘Bout to touch him\\nright on the head. He's adopting a strategy of\\nscaring the bulls away? This is hard! Note to self: don't do these things\"),\n",
              " Document(metadata={}, page_content=\"that weigh 1,500 lbs each. ‘Bout to touch him\\nright on the head. He's adopting a strategy of\\nscaring the bulls away? This is hard! Note to self: don't do these things\\nwith professionals. He literally breezed through\\nthis challenge. - Woah, he did it!\\n- There you go. You won! - Congrats on winning $50,000!\\n- Thank you. What're you gonna spend\\nthe money on? Probably\\na new truck. Why am I not\\nsurprised? But what will surprise you is who\\nwins the race later in this video. But this next challenge has\\n2 creatures built to shatter every bone\\nin your body. Alright, Nick. Come through\\nthese doors. I'm terrified. This is Nick, who you might remember from his race\\nagainst the fastest man on the planet where, even with a mile headstart,\\nhe still lost to Noah Lyles. And today, I'm gonna be giving him\\na second chance at something\\na little more deadly. In front of you. Just— I can't, bro.\\nI can't touch, bro. - Trust me.\\n- No, no. In front of you… - Bro…\\n- Bro, bro— When you see this footage, you're\"),\n",
              " Document(metadata={}, page_content=\"a second chance at something\\na little more deadly. In front of you. Just— I can't, bro.\\nI can't touch, bro. - Trust me.\\n- No, no. In front of you… - Bro…\\n- Bro, bro— When you see this footage, you're\\ngonna realize how dumb you're being. - What is it, bro? Ok?\\n- It's literally $100,000. Ok. He lost against Noah Lyles,\\nso he's not— he doesn't know what large sums of\\nmoney feels like. I did. To win this\\n$100,000, you must choose to survive 1 minute\\nin the ring with either— Take off your\\nblindfold. Ramy, a 500-lb professional\\nsumo wrestler… Why are you doing—\\nWhy is he doing the… Or… Turn around. A minute in the ring\\nwith this bear. Oh my God—\\nBruh, yo! Ok. Why is he there? And if you think that\\nthis bear is harmless… don't. Because he can literally tear\\nan average human to shreds. Thing’s big, bro. Tom, how you doing? He's— Ok, don't look at\\nhim too long. It's time for a decision.\\n$100,000 on the line. You want to wrestle a sumo wrestler\\nor a grizzly bear? Oh, he's coming towards you.\"),\n",
              " Document(metadata={}, page_content=\"him too long. It's time for a decision.\\n$100,000 on the line. You want to wrestle a sumo wrestler\\nor a grizzly bear? Oh, he's coming towards you.\\nHe's excited. It's mobile now. Ok, I'm not going back to the bear.\\nHe's up. Jesus. Alright.\\nLet's go with you, bro. You're picking him? I mean, I have to. What do you mean?\\nIt's a big grizzly bear. You have your life insurance\\nwith you? I don't. And so Nick doesn't\\nliterally die, I brought an actual sumo coach\\nto suit him up for the match. See if you can bend your knees.\\nSlide your feet. Are you ready? Step in the ring! Come on. You're good.\\nCome here. Come to the middle. In order to win this\\nchallenge Nick, you'll have to wrestle Ramy\\nfor 1 minute without crossing over\\nthe red circle. If you get pushed outside of\\nthe circle before the minute is over, you will once again\\nlose everything. Touch your fist to the ground\\nto begin the match. Are you mentally stable? You're in too deep now, Nick.\"),\n",
              " Document(metadata={}, page_content=\"the circle before the minute is over, you will once again\\nlose everything. Touch your fist to the ground\\nto begin the match. Are you mentally stable? You're in too deep now, Nick.\\nLet's do this. Oh my God… Did you hear that? Bro, he's making sounds\\nworse than Tom! - Nick, touch the ground.\\n- Wait up! Wait up. Touch the ground, Nick! Go! Ok, alright.\\nOk, ok. Alright, the timer's off. - Fight back, Nick.\\n- Wait, one second. Nick! Fight back, Nick! Fight back! Go for his belt, Nick! Nick! He’s suffocating me! He's toying with him.\\nIt's nothing but a game. Nick, you made it\\n15 seconds. Are you just hugging him?\\nWhat're you doing? 20 seconds! Nick, you're almost\\nhalfway done. Nick! No!\\nFight back, Nick. Nick, fight back!\\nFight back, Nick! 20 seconds! Nick! You’ve almost\\nwon the money, Nick! Oh my God, he's toying with him.\\nIt's a photo finish. 5 seconds! 3, 2, 1… He went over\\nthe line. Are you good? You literally grabbed the side and\"),\n",
              " Document(metadata={}, page_content=\"won the money, Nick! Oh my God, he's toying with him.\\nIt's a photo finish. 5 seconds! 3, 2, 1… He went over\\nthe line. Are you good? You literally grabbed the side and\\nreached out before the minute ended. Bro, this guy's an animal\\nlooking like a human. You lost to the fastest man\\non earth. You've now lost to the best\\nsumo wrestler on Earth. I feel bad.\\nSo… I'm gonna give him $10,000\\nfor winning! Loser. Whoa! That's crazy. - Loser. Loser.\\n- I want to see you outside. I say we jump into what might\\nliterally be the biggest challenge\\nof this entire video. And to lighten things up, I decided\\nto bring out comedian Trevor Wallace. Trevor, take off\\nyour blindfold! Are we gonna address\\nthe elephant in the room? This elephant is the best painting\\nelephant on the planet. Which is exactly why,\\nfor our next challenge, we'll be doing\\na paint-off. Both of you will have 10 minutes to\\npaint whatever creation you want. Whichever one of you draws\\na better painting will have your masterpiece hung up in\"),\n",
              " Document(metadata={}, page_content=\"a paint-off. Both of you will have 10 minutes to\\npaint whatever creation you want. Whichever one of you draws\\na better painting will have your masterpiece hung up in\\nan actual art museum. May the best— May the best elephant win. Hey, stop eating grass! If you don't want to mow your lawn,\\njust buy an elephant. Oh. She just smacked me\\nwith her ear. She's trying to paint.\\nHere, give us a second. She needs a head start. Go ahead and go to your painting.\\nShe can't wait to start. 3, 2, 1… Start the timer! This is the first time ever\\non this channel that we've had\\nan elephant paint, so we're gonna hide the artwork\\nuntil the end. Paint?\\nOh, not me. Jimmy, what do you want me\\nto paint? A giant school. I got you. Ok, so we're going to start with\\na nice yellow, copper tone. That's the color you're\\ngoing with? Dude, what colors\\nare schools? Oh. There we go. Oh, she dropped it. We'll give her some\\nmotivation. Orange. How come the elephant gets fed,\\nand you guys aren't feeding me? No Feastables,\"),\n",
              " Document(metadata={}, page_content=\"going with? Dude, what colors\\nare schools? Oh. There we go. Oh, she dropped it. We'll give her some\\nmotivation. Orange. How come the elephant gets fed,\\nand you guys aren't feeding me? No Feastables,\\nno nothing? Can we get some\\nFeastables? Less talking, more painting.\\nEat this. I hope it’s not chocolate.\\nI'm allergic. Huh? Alright. 5 minutes\\nleft, Trevor. Yes, yes! Can I get my\\nBob Ross wig? He's locking in. Bob Floss right here. Let's clutch up.\\nLet's go. We can't lose to\\nthis guy. Oh, yes!\\nGood girl! - How much time do I have?\\n- Uh, 4 minutes. Hey, time's ticking,\\nBob Ross. Yeah. Right now, that is\\na yellow blob. No, no.\\nIt's a G-Wagon. Look at that! Alright, go!\\nPaint! Oh! Not me.\\nPaint that thing. And the road,\\nthe road. - You gotta get a sun going.\\n- Here, gimme yellow. Whabam!\\nJuilliard! We got 2 mins left so we'll clock in.\\nLet's lock in. You're doing great. She did not like\\nthat paintbrush. Trevor, we’re running\\nout of time. - Dude, this is so bad.\"),\n",
              " Document(metadata={}, page_content=\"Juilliard! We got 2 mins left so we'll clock in.\\nLet's lock in. You're doing great. She did not like\\nthat paintbrush. Trevor, we’re running\\nout of time. - Dude, this is so bad.\\n- Believe in your art. These were supposed to be bricks,\\nnot windows. I’m gonna help you out.\\nWe're running out of time. I feel like a firefighter with\\nthe hose. Let's go. One minute left!\\nWe might actually win. You might actually lose\\nto an elephant. I feel like I'm painting at\\na funeral. Now, this is her signature move\\nthat she puts on all her artwork. - Three…\\n- Just keep going. - Two…\\n- Oh! That was a mistake. That was a fumble. One! Time is up! No! He didn’t finish! But before we judge these\\nworks of art… Coming up, we have\\na literal cheetah racing one of the fastest cars\\nin the world. But for now, I brought in\\na professional with over 30 years of experience\\nto judge these paintings. And now, on\\na scale 1 to 10… One being bad.\\nTen being good— - Two.\\n- Two? - Two.\\n- Ok. It feels a little bit\"),\n",
              " Document(metadata={}, page_content=\"a professional with over 30 years of experience\\nto judge these paintings. And now, on\\na scale 1 to 10… One being bad.\\nTen being good— - Two.\\n- Two? - Two.\\n- Ok. It feels a little bit\\nadolescent, so maybe someone's getting in touch\\nwith their inner child. Woah, ho-ho! Talk about the art,\\nnot the artist! Hey! No influencing the judge. And now to reveal the masterpiece of\\nthe world's best painting elephant… Are we really gonna grade this?\\nThis looks like a clown threw up. She painted this\\non her own. What are your\\nthoughts on it? I feel a lot of joy in\\nthis particular painting, but I see that they're being\\nhonest to who they are. You can't separate the art\\nfrom the artist. What do you rate this art piece\\nout of 10? I would give her\\nan 8 out of 10. Whoa! Trevor, you lost to\\nan elephant. Whatever, man. Your competitor is literally hitting\\na Fortnite emote. How does that\\nmake you feel? Alright, you're good.\\nRest… Go back to\\nRainforest Cafe. And as promised, here's Isla’s painting hanging\"),\n",
              " Document(metadata={}, page_content=\"a Fortnite emote. How does that\\nmake you feel? Alright, you're good.\\nRest… Go back to\\nRainforest Cafe. And as promised, here's Isla’s painting hanging\\nin a real art museum. Exquisite. I wonder if any of\\nthese people realize this was painted by\\nan elephant. Anyway, for this\\nnext challenge, we have the most advanced soldiers\\non the planet. How long would it take you guys\\nto kill me? - 30 seconds.\\n- They're very scary men. And we're gonna see\\nhow long they can hide in this massive junkyard\\nfrom Odin, one of the best search dogs\\non the planet. How long do you think\\nthey’ll last? Probably about 5 minutes. And if any of you can evade\\nthese dogs until morning, you'll split $50,000 - Yeah!\\n- Let's go. Alright. 10 minutes to hide. 3, 2, 1… Go!\\nHave fun! While these men spent half of\\ntheir lives evading enemy capture, these dogs have been trained since\\nbirth to seek out humans. So I will be shocked if these guys\\ncan survive until morning. Get over to our\"),\n",
              " Document(metadata={}, page_content=\"their lives evading enemy capture, these dogs have been trained since\\nbirth to seek out humans. So I will be shocked if these guys\\ncan survive until morning. Get over to our\\nhiding spot here. I just gotta evade these\\ndogs the longest. These guys are running around\\nlike a bunch of fools. I'm not gonna sweat. Rub up on some of these vehicles\\njust to get my scent. They’re all probably doing\\nzigzags and rubbing up against as many\\nvehicles as they can.  While Johnny created false flags\\nby rubbing up against cars. Carlos— I found some water! decided to mask\\nhis scent. Here we go! He literally dunked himself in\\nthe river hoping to throw them off. Now I’m going back to\\nmy hiding spot. Most of these guys had\\nthe same strategy. Create a diversion for the dog,\\nthen hide in a car. Gotta find the right spot. While one of them had\\na different idea. Hey, what's up? So I'm sitting up\\nin a tree about 50 ft up. And the only tree in-play. Here's the whole yard where\"),\n",
              " Document(metadata={}, page_content=\"a different idea. Hey, what's up? So I'm sitting up\\nin a tree about 50 ft up. And the only tree in-play. Here's the whole yard where\\neverybody's hiding. I just pray that God will hide\\nmy scent. Hopefully they\\ndon’t find me. The 10 minute timer is up!\\nWe're coming to find you. Here they go.\\nYou can hear the dog. 3, 2, 1… Release the hounds! - And they were off. Let's go.\\n- Alright, we're good? Yep. Watch the dog\\nand his behavior. You'll see it when he\\ncatches that odor. You’ll see his nose\\ngoes up. How can dogs smell\\nthis good? It's called their olfactors. The longer the snout, the more\\nolfactors that these dogs have. It’s nice and windy up here so\\nthey shouldn’t be able to smell me. I know it’s a win for me because\\nI’m not near the ground. Remember, this is\\na very large area. So the dog has to systematically\\ndecipher what odor is a person. And what's just somebody who\\nwalked through here earlier. Alert! Alright. Standby. Sage might’ve found\\nsomething. Oh, the doors are\"),\n",
              " Document(metadata={}, page_content=\"decipher what odor is a person. And what's just somebody who\\nwalked through here earlier. Alert! Alright. Standby. Sage might’ve found\\nsomething. Oh, the doors are\\nunlocked. Yo! - They got me.\\n- You're the first one found. Oh my God. The dog’s barking over there,\\nso they must’ve found somebody. Yo! That's crazy. Sage might’ve scanned\\n4— 500 cars. This is the only car that Sage\\nbarked at, and he was in it! If it makes you\\nfeel better, everyone who gets found is getting\\na Lenovo Legion Pro 7i powered by Intel Core\\nultra 9. These laptops are beasts, but we still got 4 more people\\nwe need to find. Let's keep going. On our Lenovo Legion laptop\\npowered by Intel, we have a map of\\nthe junkyard. We're gonna search\\nover there. Go over to the bus,\\nsee if we find someone. - If not, rendezvous up.\\n- Yep. Ok, we got\\na game plan. They’re coming my way,\\nso I gotta kill the light. Oh, he's on the hunt. I’m gonna call an alert\\non this van! Oh, wait. Sage is barking\"),\n",
              " Document(metadata={}, page_content=\"- Yep. Ok, we got\\na game plan. They’re coming my way,\\nso I gotta kill the light. Oh, he's on the hunt. I’m gonna call an alert\\non this van! Oh, wait. Sage is barking\\nat this car. Sage, is it this one? Step back. Alright, is anyone\\ninside— - Oh!\\n- You got me. You could’ve just\\nopened the door. Two down.\\nSage is crushing! I'm sorry, but you've lost\\n$50,000. But don't worry, you'll be able to overcome any\\nobstacle with this brand new laptop. That's the power of Lenovo\\nwith Intel inside. Nice. Thank you. Alright. Let's keep\\nhunting, Byron. Alright, #2 has been found,\\nwhich was close to me, which could throw\\nthe dog off. I mean he may not find me because\\nhe just found somebody close to me. The dogs came super close\\nto finding the marine. Becky and Sage just\\nwalked by. Oh my gosh, they walked\\nbeside the car. Didn’t find him.\\nHoly cow! But then something completely\\nunexpected happened. I don't know how they did it, but somehow the dogs could not find\\nthese guys. One of the guys threw\"),\n",
              " Document(metadata={}, page_content=\"beside the car. Didn’t find him.\\nHoly cow! But then something completely\\nunexpected happened. I don't know how they did it, but somehow the dogs could not find\\nthese guys. One of the guys threw\\na Redbull can in here. What we have here is\\na false find. Somebody came here\\nand has left. Their trap worked. Thank you, Lenovo and Intel,\\nfor giving us these computers. And if you guys are interested in\\nbuying one for yourselves, just go to this website right here\\nor click the link in the description. Even after searching for hours,\\nit was like the soldiers disappeared. The dogs have been looking all night,\\nand now the sun is coming up. We can't find these\\npeople. It’s 5:30 in\\nthe morning. It's obviously getting\\nlighter out. There's about 3 of us\\nstill out here. But then, mere moments before\\nwe ended the challenge… Alright, they’re really close\\nright now. Is he in there? Is there anybody\\nin this truck? - Someone’s in the back!\\n- We got somebody! Got me. You might be\"),\n",
              " Document(metadata={}, page_content=\"we ended the challenge… Alright, they’re really close\\nright now. Is he in there? Is there anybody\\nin this truck? - Someone’s in the back!\\n- We got somebody! Got me. You might be\\na little hungry. I actually got you a Feastables\\nPeanut Butter Cup. Let me know what you think. Oh yeah. That's a 10\\nright there. Come on. And with the time\\nfinally up, the 2 winners emerged from\\ntheir hiding spots. It's a good one. Oh, that was\\na long night. Congrats to them on\\nsplitting $50,000. And now, the moment you've\\nall been waiting for. After the most insane\\nman vs. animal competitions, it all comes down to\\nthis final challenge. This cheetah is gonna race\\nthe fastest car on earth. Let's see who wins—\\nOh, cheetah! Alright, I'll get it\\nto come back. This cheetah reigns as the literal\\nfastest land animal on the planet. Clocking speeds\\nso intense, that humans need the speed of\\na Formula E race car to stand a chance. Which is exactly why I brought not\\njust 1 but 3 cars to try and beat it. All starting with\"),\n",
              " Document(metadata={}, page_content=\"so intense, that humans need the speed of\\na Formula E race car to stand a chance. Which is exactly why I brought not\\njust 1 but 3 cars to try and beat it. All starting with\\nthis golf cart vs. cheetah. Oh, look at that thing. Ready boys? - Let's do this.\\n- Yup! 3, 2, 1… Send the cheetah! Oh my God,\\nit's so fast! Oh, it's not even\\nclose. It's crushing us. We’re getting left\\nin the dust! I can't even see it anymore,\\nit's gone. The cheetah literally\\nalready finished, and we're still halfway\\nthrough the race. This is embarrassing. Sir! Cheetah, you didn't even give us\\na fighting chance. We need something faster.\\nBring out the next car! We all knew a golf cart wasn't going\\nto beat this cheetah. But for this next race,\\nI spared no expense in acquiring one of the most\\nbeautiful cars in automotive history. Minivan vs. cheetah. Go! Oh, here we go. - Go, Jimmy! Drive!\\n- Oh, what is this acceleration? - You gotta speed up faster!\\n- What're you doing? I have literally gas\"),\n",
              " Document(metadata={}, page_content=\"- Oh, what is this acceleration? - You gotta speed up faster!\\n- What're you doing? I have literally gas\\nall the way to the floor. It is gone! This thing does not\\naccelerate. Why’d we choose\\na minivan? This is embarrassing. We already lost. What are we doing? Wait, cheetah! Cheetah! You're supposed to cross\\nthe finish line. The cheetah stopped conveniently\\nright before. Oh, there it is. It's teasing us. I guess that's what can happen when\\nyou work with animals. - It felt sorry for us.\\n- Yeah. But before this cheetah races\\na Formula E car, we need to prevent it\\nfrom overheating. Which meant we somehow\\ngot to do this. I wanted to say hi\\nto the cheetah. I'm good, thanks. - Millie— I touched the cheetah.\\n- Oh my God, bro. For whatever reason, they actually let us hang out\\nwith this apex predator. I can't believe we're just\\nnext to this right now. Come here, Millie. I can't believe I'm literally calling\\na cheetah over to me. It is so big. Give it a pet, Nolan. Nolan, stop touching it.\"),\n",
              " Document(metadata={}, page_content=\"next to this right now. Come here, Millie. I can't believe I'm literally calling\\na cheetah over to me. It is so big. Give it a pet, Nolan. Nolan, stop touching it.\\nIt did not like when you touched it. You guys are actually crazy. Oh my gosh, this cheetah's literally\\nexactly like a giant cat. You’re so cute! We're giving the cheetah a little bit\\nof a break in between the race, that way it's not too\\nout of breath. And in case you guys\\nare curious, we partnered with\\nthe American Humane Society, which is basically making sure\\nthat all the animals are being ethically treated\\nwhile we're filming this video. That's because today there are less\\nthan 8,000 cheetahs living on earth, which is why it's important to me\\nthat all of these endangered animals are treated very carefully\\non our set. It's so soft! The cheetah is purring\\ninsanely loud. That means it\\nlikes us. It looks like Millie is ready for\\nthe next race. Let's get this on\\nthe road. It's finally time for the moment\"),\n",
              " Document(metadata={}, page_content=\"on our set. It's so soft! The cheetah is purring\\ninsanely loud. That means it\\nlikes us. It looks like Millie is ready for\\nthe next race. Let's get this on\\nthe road. It's finally time for the moment\\nwe've all been waiting for. What you're about to witness is the\\nultimate showdown of man vs. animal. This race is so monumental,\\nin fact, that if anyone is going to ruin it,\\nit might as well be Nolan. Let's answer the most important\\nquestion in modern history… - Three!\\n- Can a cheetah…. - Two!\\n- …outrace a Formula E car? One! Let's find out. Go! That was so fast. The car just flew past\\nthe cheetah! Oh my God! Although Millie\\ndidn't win, it is crazy to me that\\na cheetah can hold its own against the same car used in\\nthe Formula E World Championship. But when the first car was made\\nmore than a century ago, over 100,000 cheetahs were\\nalive in the wild. But today with less than\\n8,000 remaining, it's our job to protect these extraordinary\"),\n",
              " Document(metadata={}, page_content=\"more than a century ago, over 100,000 cheetahs were\\nalive in the wild. But today with less than\\n8,000 remaining, it's our job to protect these extraordinary\\ncreatures from extinction, so that they can keep inspiring us\\nall to push beyond our limits. Millie is like the sweetest animal\\nI've ever met.\")]"
            ]
          },
          "execution_count": 7,
          "metadata": {},
          "output_type": "execute_result"
        }
      ],
      "source": [
        "chunks"
      ]
    },
    {
      "cell_type": "markdown",
      "metadata": {
        "id": "8xYFK7WXC2Ka"
      },
      "source": [
        "## Step 1c & 1d - Indexing (Embedding Generation and Storing in Vector Store)"
      ]
    },
    {
      "cell_type": "code",
      "execution_count": 8,
      "metadata": {
        "id": "jYXeS5T7FrC4"
      },
      "outputs": [],
      "source": [
        "embeddings = OpenAIEmbeddings(model=\"text-embedding-3-small\")\n",
        "vector_store = FAISS.from_documents(chunks, embeddings)"
      ]
    },
    {
      "cell_type": "code",
      "execution_count": 9,
      "metadata": {
        "colab": {
          "base_uri": "https://localhost:8080/"
        },
        "id": "PWYkp-NmFSVF",
        "outputId": "36f75b4d-b798-4e06-aeea-5c56c91befe0"
      },
      "outputs": [
        {
          "data": {
            "text/plain": [
              "{0: 'c330ec32-ad94-43a6-845e-e660bd01d574',\n",
              " 1: '27e84a17-f0e2-467a-9be6-4902f7295861',\n",
              " 2: 'bc0bb126-bdf9-409f-92cd-ac839b56ce59',\n",
              " 3: 'c5794fba-4379-4357-9106-e76c5eb2fb81',\n",
              " 4: 'f4e64f30-3252-4945-888d-2bc31a555dd6',\n",
              " 5: '420b45d1-738a-48aa-a0fc-07e41eaa768c',\n",
              " 6: 'fb61abf5-e297-43db-b312-c82472d0435f',\n",
              " 7: 'cfad0e27-53c1-48d4-86f0-60eb17703bf4',\n",
              " 8: '59596320-31e4-4b86-b83e-c627a54bb9d7',\n",
              " 9: '87d712e2-fc26-43a1-8337-4595a1dd028c',\n",
              " 10: '7341134c-b6ee-4bee-800d-0bf7cf2aff26',\n",
              " 11: '9b586bdf-7d3f-41dc-b4e8-ec51af402ac1',\n",
              " 12: '8847cfb6-56ab-4299-938c-c26166cf740c',\n",
              " 13: '87e17349-b5b0-4451-b577-69cfc614ddab',\n",
              " 14: 'd60ca191-3f4b-4a66-a148-fea62f0fe9ff',\n",
              " 15: '479fb6ff-e04a-47c6-a699-c11831d73d1c',\n",
              " 16: 'a24cb610-0dfb-4d8a-a3a8-4c9a1a7c403b',\n",
              " 17: '5123d966-e7a8-4d39-baab-71ea53a7b1b2',\n",
              " 18: 'b8a9b30b-e264-426b-9e1d-27594ad1ffd5',\n",
              " 19: '3df1c2a7-e830-4194-89e3-9b959d46dc21',\n",
              " 20: 'c376ec7d-95f1-4cad-85db-c1e6ca912083',\n",
              " 21: '85cb71e9-ac19-4bc1-944f-f7248bd43a22',\n",
              " 22: 'ad42b7b0-c9b9-4382-8429-f192f8cc6881',\n",
              " 23: 'a4dc2dc6-a7e8-44db-87a3-f738eb7df346',\n",
              " 24: '36feae2d-cdaa-489c-a4c5-509d8a59147e',\n",
              " 25: 'ad266f4b-e850-4f51-aabb-38290055e276'}"
            ]
          },
          "execution_count": 9,
          "metadata": {},
          "output_type": "execute_result"
        }
      ],
      "source": [
        "vector_store.index_to_docstore_id"
      ]
    },
    {
      "cell_type": "code",
      "execution_count": 10,
      "metadata": {
        "colab": {
          "base_uri": "https://localhost:8080/"
        },
        "id": "MxokTcWEGGAo",
        "outputId": "e05f7a2a-4cb1-4fb0-ba48-e6887877a260"
      },
      "outputs": [
        {
          "data": {
            "text/plain": [
              "[]"
            ]
          },
          "execution_count": 10,
          "metadata": {},
          "output_type": "execute_result"
        }
      ],
      "source": [
        "vector_store.get_by_ids(['f3a56725-441c-450a-b148-85d0d72199be'])"
      ]
    },
    {
      "cell_type": "markdown",
      "metadata": {
        "id": "Zez1650EDN9J"
      },
      "source": [
        "## Step 2 - Retrieval"
      ]
    },
    {
      "cell_type": "code",
      "execution_count": 11,
      "metadata": {
        "id": "KEuoGUYOF3oG"
      },
      "outputs": [],
      "source": [
        "retriever = vector_store.as_retriever(search_type=\"similarity\", search_kwargs={\"k\": 4})"
      ]
    },
    {
      "cell_type": "code",
      "execution_count": 12,
      "metadata": {
        "colab": {
          "base_uri": "https://localhost:8080/"
        },
        "id": "Qcose8VuGFAv",
        "outputId": "f8e5472c-4073-4e44-af3a-f4ffcd023dc5"
      },
      "outputs": [
        {
          "data": {
            "text/plain": [
              "VectorStoreRetriever(tags=['FAISS', 'OpenAIEmbeddings'], vectorstore=<langchain_community.vectorstores.faiss.FAISS object at 0x000001739EE18A90>, search_kwargs={'k': 4})"
            ]
          },
          "execution_count": 12,
          "metadata": {},
          "output_type": "execute_result"
        }
      ],
      "source": [
        "retriever"
      ]
    },
    {
      "cell_type": "code",
      "execution_count": 13,
      "metadata": {
        "colab": {
          "base_uri": "https://localhost:8080/"
        },
        "id": "Wvrsq08TGGNk",
        "outputId": "55ed9475-4497-4e53-d380-5c4c10bf68cb"
      },
      "outputs": [
        {
          "data": {
            "text/plain": [
              "[Document(id='c330ec32-ad94-43a6-845e-e660bd01d574', metadata={}, page_content=\"Who's faster? A cheetah or one of\\nthe fastest cars in the world? Can a man beat a bear in\\na fight? Can a tiger beat the world-record\\nhigh jumper? We're gonna answer all of these\\nand more— starting with the strongest man\\nin the world. And he's about to test his strength\\nagainst a 500-pound lion in a game of\\ntug-of-war. Any last words? It's go time. 3, 2, 1… Go! Alright and\\nwe’re off. Oh my gosh!\\nLook at his mouth! Look at that\\nbrute strength. Oh my gosh. The lion’s literally holding\\nthe strongest man in the world back right now! Wait, what is he doing? Did that lion just\\nturn around? It looks like he's trying to\\nwear Brian out. Here's Brian pulling\\na literal plane. But right now, he cannot get\\nthis lion to budge. He’s starting\\nto struggle! Brian's actually\\ndoing this! Oh, ok. Ok. You got like\\n3 feet left. You're almost\\nthere! Brian, you’re almost\\nthere! Brian won! Brian won, congrats! Yes! Brian just won! Did you have fun? Oh, ok.\\nI just— I won't talk to him.\"),\n",
              " Document(id='420b45d1-738a-48aa-a0fc-07e41eaa768c', metadata={}, page_content=\"that weigh 1,500 lbs each. ‘Bout to touch him\\nright on the head. He's adopting a strategy of\\nscaring the bulls away? This is hard! Note to self: don't do these things\\nwith professionals. He literally breezed through\\nthis challenge. - Woah, he did it!\\n- There you go. You won! - Congrats on winning $50,000!\\n- Thank you. What're you gonna spend\\nthe money on? Probably\\na new truck. Why am I not\\nsurprised? But what will surprise you is who\\nwins the race later in this video. But this next challenge has\\n2 creatures built to shatter every bone\\nin your body. Alright, Nick. Come through\\nthese doors. I'm terrified. This is Nick, who you might remember from his race\\nagainst the fastest man on the planet where, even with a mile headstart,\\nhe still lost to Noah Lyles. And today, I'm gonna be giving him\\na second chance at something\\na little more deadly. In front of you. Just— I can't, bro.\\nI can't touch, bro. - Trust me.\\n- No, no. In front of you… - Bro…\\n- Bro, bro— When you see this footage, you're\"),\n",
              " Document(id='c5794fba-4379-4357-9106-e76c5eb2fb81', metadata={}, page_content='that world record! Luna, this is for you. Can he do it? Oh my gosh!\\nWhoa, he crushed it! That was crazy! Luna, what are you gonna\\nsay to that? Bro, you just jumped higher than\\nanyone in history. And you seem chill. Ah, I feel like\\nI can go higher. - I\\'m not gonna lie to you.\\n- Oh my gosh, this guy. I feel like I could go higher. You just set a world record.\\nHe\\'s like, \"Oh, I could go higher.\" Brian beat a lion.\\nDarius beat a tiger. Animals need to\\nstart winning. Team Human.\\nLet\\'s go. I think Team Human is going to have\\na much harder time with this next\\ncompetition. We are now in a bull arena\\nwith Bubba. Hello. - Bubba is a bull rider.\\n- Yes, sir. We are gonna release 3 bulls\\nin this arena. 3 bulls? You need to carry as many bags of\\nmoney as you can all the way to the other side\\nof the arena, with 3 bulls chasing you\\nin the process. Every dollar you get in the bucket\\nin the next 3 minutes, you keep. - I\\'m ready, Jimmy.\\n- Good luck. Release the bulls! Here they come! Bubba, please'),\n",
              " Document(id='cfad0e27-53c1-48d4-86f0-60eb17703bf4', metadata={}, page_content=\"him too long. It's time for a decision.\\n$100,000 on the line. You want to wrestle a sumo wrestler\\nor a grizzly bear? Oh, he's coming towards you.\\nHe's excited. It's mobile now. Ok, I'm not going back to the bear.\\nHe's up. Jesus. Alright.\\nLet's go with you, bro. You're picking him? I mean, I have to. What do you mean?\\nIt's a big grizzly bear. You have your life insurance\\nwith you? I don't. And so Nick doesn't\\nliterally die, I brought an actual sumo coach\\nto suit him up for the match. See if you can bend your knees.\\nSlide your feet. Are you ready? Step in the ring! Come on. You're good.\\nCome here. Come to the middle. In order to win this\\nchallenge Nick, you'll have to wrestle Ramy\\nfor 1 minute without crossing over\\nthe red circle. If you get pushed outside of\\nthe circle before the minute is over, you will once again\\nlose everything. Touch your fist to the ground\\nto begin the match. Are you mentally stable? You're in too deep now, Nick.\")]"
            ]
          },
          "execution_count": 13,
          "metadata": {},
          "output_type": "execute_result"
        }
      ],
      "source": [
        "retriever.invoke('whos is brian shaw')"
      ]
    },
    {
      "cell_type": "markdown",
      "metadata": {
        "id": "F8y0wRmoDSVZ"
      },
      "source": [
        "## Step 3 - Augmentation"
      ]
    },
    {
      "cell_type": "code",
      "execution_count": 14,
      "metadata": {
        "id": "x2P2AlJ0GN5L"
      },
      "outputs": [],
      "source": [
        "llm = ChatOpenAI(model=\"gpt-4o-mini\", temperature=0.2)"
      ]
    },
    {
      "cell_type": "code",
      "execution_count": 15,
      "metadata": {
        "id": "2-NeLx9wFHzw"
      },
      "outputs": [],
      "source": [
        "prompt = PromptTemplate(\n",
        "    template=\"\"\"\n",
        "      You are a helpful assistant.\n",
        "      Answer ONLY from the provided transcript context.\n",
        "      If the context is insufficient, just say you don't know.\n",
        "\n",
        "      {context}\n",
        "      Question: {question}\n",
        "    \"\"\",\n",
        "    input_variables = ['context', 'question']\n",
        ")"
      ]
    },
    {
      "cell_type": "code",
      "execution_count": 16,
      "metadata": {
        "id": "WI9BOZQwGizf"
      },
      "outputs": [],
      "source": [
        "question          = \"According to the video who jumps higher a tiger or a man?\"\n",
        "retrieved_docs    = retriever.invoke(question)"
      ]
    },
    {
      "cell_type": "code",
      "execution_count": 17,
      "metadata": {
        "colab": {
          "base_uri": "https://localhost:8080/"
        },
        "id": "hfv8yNFsK_GN",
        "outputId": "79fa2a7e-8d92-45bf-99e4-ad12cd86c7a1"
      },
      "outputs": [
        {
          "data": {
            "text/plain": [
              "[Document(id='27e84a17-f0e2-467a-9be6-4902f7295861', metadata={}, page_content=\"3 feet left. You're almost\\nthere! Brian, you’re almost\\nthere! Brian won! Brian won, congrats! Yes! Brian just won! Did you have fun? Oh, ok.\\nI just— I won't talk to him.\\nThat's fine. But that's just the first of\\nseven challenges that will test man\\nversus animal. Up next, we have the highest\\nvertical leaper on the planet. No joke.\\nThat's his Guinness World Record. Of all 8 billion humans alive,\\nnone can jump higher than him. And he's gonna be going against this\\ntiger to see who can jump higher… man or animal. Team Human.\\nLet’s go. Look at that majestic beast. Do you actually think you\\ncan out-jump that? I’m not gonna lie. If she jumps 13,\\nI’m jumping 13. Oh, look how she's looking at him.\\nShe's scoping you out. Is that a threat? She doesn't speak\\nEnglish. I say we get into it. They’re gonna use this meat\\nto lure her and see if they can get her\\nto jump. - Let me see what you got, Luna.\\n- Oh, she wants it. Here it is. Here comes\\nthe jump. How high will the tiger\"),\n",
              " Document(id='bc0bb126-bdf9-409f-92cd-ac839b56ce59', metadata={}, page_content='to lure her and see if they can get her\\nto jump. - Let me see what you got, Luna.\\n- Oh, she wants it. Here it is. Here comes\\nthe jump. How high will the tiger\\njump? Oh my gosh! Now, if you can somehow jump\\nhigher than the tiger… I want it to be because you beat\\nyour own world record. So I\\'m not putting this\\nat 10 ft, 9 in. I\\'m going to put it\\nat 12 ft, 3 in. Exactly 1 inch higher than\\nyour Guinness World Record. If he manages to touch this,\\nnot only will he decimate the tiger, but he will set\\na new world record. I mean, I think I got it.\\n12\\' 3\"? - Yeah.\\n- I don\\'t see why not. I’m gonna be honest,\\nI think Darius is lying. I\\'m not gonna lie,\\nI dang near think I\\'m lying. This does not seem\\nhumanly possible. For the world record attempt.\\nAre you ready? Let’s get it. Let\\'s see if you can set\\nthat world record! Luna, this is for you. Can he do it? Oh my gosh!\\nWhoa, he crushed it! That was crazy! Luna, what are you gonna\\nsay to that? Bro, you just jumped higher than'),\n",
              " Document(id='c330ec32-ad94-43a6-845e-e660bd01d574', metadata={}, page_content=\"Who's faster? A cheetah or one of\\nthe fastest cars in the world? Can a man beat a bear in\\na fight? Can a tiger beat the world-record\\nhigh jumper? We're gonna answer all of these\\nand more— starting with the strongest man\\nin the world. And he's about to test his strength\\nagainst a 500-pound lion in a game of\\ntug-of-war. Any last words? It's go time. 3, 2, 1… Go! Alright and\\nwe’re off. Oh my gosh!\\nLook at his mouth! Look at that\\nbrute strength. Oh my gosh. The lion’s literally holding\\nthe strongest man in the world back right now! Wait, what is he doing? Did that lion just\\nturn around? It looks like he's trying to\\nwear Brian out. Here's Brian pulling\\na literal plane. But right now, he cannot get\\nthis lion to budge. He’s starting\\nto struggle! Brian's actually\\ndoing this! Oh, ok. Ok. You got like\\n3 feet left. You're almost\\nthere! Brian, you’re almost\\nthere! Brian won! Brian won, congrats! Yes! Brian just won! Did you have fun? Oh, ok.\\nI just— I won't talk to him.\"),\n",
              " Document(id='c5794fba-4379-4357-9106-e76c5eb2fb81', metadata={}, page_content='that world record! Luna, this is for you. Can he do it? Oh my gosh!\\nWhoa, he crushed it! That was crazy! Luna, what are you gonna\\nsay to that? Bro, you just jumped higher than\\nanyone in history. And you seem chill. Ah, I feel like\\nI can go higher. - I\\'m not gonna lie to you.\\n- Oh my gosh, this guy. I feel like I could go higher. You just set a world record.\\nHe\\'s like, \"Oh, I could go higher.\" Brian beat a lion.\\nDarius beat a tiger. Animals need to\\nstart winning. Team Human.\\nLet\\'s go. I think Team Human is going to have\\na much harder time with this next\\ncompetition. We are now in a bull arena\\nwith Bubba. Hello. - Bubba is a bull rider.\\n- Yes, sir. We are gonna release 3 bulls\\nin this arena. 3 bulls? You need to carry as many bags of\\nmoney as you can all the way to the other side\\nof the arena, with 3 bulls chasing you\\nin the process. Every dollar you get in the bucket\\nin the next 3 minutes, you keep. - I\\'m ready, Jimmy.\\n- Good luck. Release the bulls! Here they come! Bubba, please')]"
            ]
          },
          "execution_count": 17,
          "metadata": {},
          "output_type": "execute_result"
        }
      ],
      "source": [
        "retrieved_docs"
      ]
    },
    {
      "cell_type": "code",
      "execution_count": 18,
      "metadata": {
        "colab": {
          "base_uri": "https://localhost:8080/",
          "height": 156
        },
        "id": "bKwpvAo5G_Pk",
        "outputId": "26f0efd0-b35f-44dd-9735-dfc41c1ab86d"
      },
      "outputs": [
        {
          "data": {
            "text/plain": [
              "'3 feet left. You\\'re almost\\nthere! Brian, you’re almost\\nthere! Brian won! Brian won, congrats! Yes! Brian just won! Did you have fun? Oh, ok.\\nI just— I won\\'t talk to him.\\nThat\\'s fine. But that\\'s just the first of\\nseven challenges that will test man\\nversus animal. Up next, we have the highest\\nvertical leaper on the planet. No joke.\\nThat\\'s his Guinness World Record. Of all 8 billion humans alive,\\nnone can jump higher than him. And he\\'s gonna be going against this\\ntiger to see who can jump higher… man or animal. Team Human.\\nLet’s go. Look at that majestic beast. Do you actually think you\\ncan out-jump that? I’m not gonna lie. If she jumps 13,\\nI’m jumping 13. Oh, look how she\\'s looking at him.\\nShe\\'s scoping you out. Is that a threat? She doesn\\'t speak\\nEnglish. I say we get into it. They’re gonna use this meat\\nto lure her and see if they can get her\\nto jump. - Let me see what you got, Luna.\\n- Oh, she wants it. Here it is. Here comes\\nthe jump. How high will the tiger\\n\\nto lure her and see if they can get her\\nto jump. - Let me see what you got, Luna.\\n- Oh, she wants it. Here it is. Here comes\\nthe jump. How high will the tiger\\njump? Oh my gosh! Now, if you can somehow jump\\nhigher than the tiger… I want it to be because you beat\\nyour own world record. So I\\'m not putting this\\nat 10 ft, 9 in. I\\'m going to put it\\nat 12 ft, 3 in. Exactly 1 inch higher than\\nyour Guinness World Record. If he manages to touch this,\\nnot only will he decimate the tiger, but he will set\\na new world record. I mean, I think I got it.\\n12\\' 3\"? - Yeah.\\n- I don\\'t see why not. I’m gonna be honest,\\nI think Darius is lying. I\\'m not gonna lie,\\nI dang near think I\\'m lying. This does not seem\\nhumanly possible. For the world record attempt.\\nAre you ready? Let’s get it. Let\\'s see if you can set\\nthat world record! Luna, this is for you. Can he do it? Oh my gosh!\\nWhoa, he crushed it! That was crazy! Luna, what are you gonna\\nsay to that? Bro, you just jumped higher than\\n\\nWho\\'s faster? A cheetah or one of\\nthe fastest cars in the world? Can a man beat a bear in\\na fight? Can a tiger beat the world-record\\nhigh jumper? We\\'re gonna answer all of these\\nand more— starting with the strongest man\\nin the world. And he\\'s about to test his strength\\nagainst a 500-pound lion in a game of\\ntug-of-war. Any last words? It\\'s go time. 3, 2, 1… Go! Alright and\\nwe’re off. Oh my gosh!\\nLook at his mouth! Look at that\\nbrute strength. Oh my gosh. The lion’s literally holding\\nthe strongest man in the world back right now! Wait, what is he doing? Did that lion just\\nturn around? It looks like he\\'s trying to\\nwear Brian out. Here\\'s Brian pulling\\na literal plane. But right now, he cannot get\\nthis lion to budge. He’s starting\\nto struggle! Brian\\'s actually\\ndoing this! Oh, ok. Ok. You got like\\n3 feet left. You\\'re almost\\nthere! Brian, you’re almost\\nthere! Brian won! Brian won, congrats! Yes! Brian just won! Did you have fun? Oh, ok.\\nI just— I won\\'t talk to him.\\n\\nthat world record! Luna, this is for you. Can he do it? Oh my gosh!\\nWhoa, he crushed it! That was crazy! Luna, what are you gonna\\nsay to that? Bro, you just jumped higher than\\nanyone in history. And you seem chill. Ah, I feel like\\nI can go higher. - I\\'m not gonna lie to you.\\n- Oh my gosh, this guy. I feel like I could go higher. You just set a world record.\\nHe\\'s like, \"Oh, I could go higher.\" Brian beat a lion.\\nDarius beat a tiger. Animals need to\\nstart winning. Team Human.\\nLet\\'s go. I think Team Human is going to have\\na much harder time with this next\\ncompetition. We are now in a bull arena\\nwith Bubba. Hello. - Bubba is a bull rider.\\n- Yes, sir. We are gonna release 3 bulls\\nin this arena. 3 bulls? You need to carry as many bags of\\nmoney as you can all the way to the other side\\nof the arena, with 3 bulls chasing you\\nin the process. Every dollar you get in the bucket\\nin the next 3 minutes, you keep. - I\\'m ready, Jimmy.\\n- Good luck. Release the bulls! Here they come! Bubba, please'"
            ]
          },
          "execution_count": 18,
          "metadata": {},
          "output_type": "execute_result"
        }
      ],
      "source": [
        "context_text = \"\\n\\n\".join(doc.page_content for doc in retrieved_docs)\n",
        "context_text"
      ]
    },
    {
      "cell_type": "code",
      "execution_count": 19,
      "metadata": {
        "id": "_bikWKZWDiqB"
      },
      "outputs": [],
      "source": [
        "final_prompt = prompt.invoke({\"context\": context_text, \"question\": question})"
      ]
    },
    {
      "cell_type": "code",
      "execution_count": 20,
      "metadata": {
        "colab": {
          "base_uri": "https://localhost:8080/"
        },
        "id": "5LOFVVAbLYvU",
        "outputId": "b6c47460-fdf3-4dad-ebe5-611b3dfe854b"
      },
      "outputs": [
        {
          "data": {
            "text/plain": [
              "StringPromptValue(text='\\n      You are a helpful assistant.\\n      Answer ONLY from the provided transcript context.\\n      If the context is insufficient, just say you don\\'t know.\\n\\n      3 feet left. You\\'re almost\\nthere! Brian, you’re almost\\nthere! Brian won! Brian won, congrats! Yes! Brian just won! Did you have fun? Oh, ok.\\nI just— I won\\'t talk to him.\\nThat\\'s fine. But that\\'s just the first of\\nseven challenges that will test man\\nversus animal. Up next, we have the highest\\nvertical leaper on the planet. No joke.\\nThat\\'s his Guinness World Record. Of all 8 billion humans alive,\\nnone can jump higher than him. And he\\'s gonna be going against this\\ntiger to see who can jump higher… man or animal. Team Human.\\nLet’s go. Look at that majestic beast. Do you actually think you\\ncan out-jump that? I’m not gonna lie. If she jumps 13,\\nI’m jumping 13. Oh, look how she\\'s looking at him.\\nShe\\'s scoping you out. Is that a threat? She doesn\\'t speak\\nEnglish. I say we get into it. They’re gonna use this meat\\nto lure her and see if they can get her\\nto jump. - Let me see what you got, Luna.\\n- Oh, she wants it. Here it is. Here comes\\nthe jump. How high will the tiger\\n\\nto lure her and see if they can get her\\nto jump. - Let me see what you got, Luna.\\n- Oh, she wants it. Here it is. Here comes\\nthe jump. How high will the tiger\\njump? Oh my gosh! Now, if you can somehow jump\\nhigher than the tiger… I want it to be because you beat\\nyour own world record. So I\\'m not putting this\\nat 10 ft, 9 in. I\\'m going to put it\\nat 12 ft, 3 in. Exactly 1 inch higher than\\nyour Guinness World Record. If he manages to touch this,\\nnot only will he decimate the tiger, but he will set\\na new world record. I mean, I think I got it.\\n12\\' 3\"? - Yeah.\\n- I don\\'t see why not. I’m gonna be honest,\\nI think Darius is lying. I\\'m not gonna lie,\\nI dang near think I\\'m lying. This does not seem\\nhumanly possible. For the world record attempt.\\nAre you ready? Let’s get it. Let\\'s see if you can set\\nthat world record! Luna, this is for you. Can he do it? Oh my gosh!\\nWhoa, he crushed it! That was crazy! Luna, what are you gonna\\nsay to that? Bro, you just jumped higher than\\n\\nWho\\'s faster? A cheetah or one of\\nthe fastest cars in the world? Can a man beat a bear in\\na fight? Can a tiger beat the world-record\\nhigh jumper? We\\'re gonna answer all of these\\nand more— starting with the strongest man\\nin the world. And he\\'s about to test his strength\\nagainst a 500-pound lion in a game of\\ntug-of-war. Any last words? It\\'s go time. 3, 2, 1… Go! Alright and\\nwe’re off. Oh my gosh!\\nLook at his mouth! Look at that\\nbrute strength. Oh my gosh. The lion’s literally holding\\nthe strongest man in the world back right now! Wait, what is he doing? Did that lion just\\nturn around? It looks like he\\'s trying to\\nwear Brian out. Here\\'s Brian pulling\\na literal plane. But right now, he cannot get\\nthis lion to budge. He’s starting\\nto struggle! Brian\\'s actually\\ndoing this! Oh, ok. Ok. You got like\\n3 feet left. You\\'re almost\\nthere! Brian, you’re almost\\nthere! Brian won! Brian won, congrats! Yes! Brian just won! Did you have fun? Oh, ok.\\nI just— I won\\'t talk to him.\\n\\nthat world record! Luna, this is for you. Can he do it? Oh my gosh!\\nWhoa, he crushed it! That was crazy! Luna, what are you gonna\\nsay to that? Bro, you just jumped higher than\\nanyone in history. And you seem chill. Ah, I feel like\\nI can go higher. - I\\'m not gonna lie to you.\\n- Oh my gosh, this guy. I feel like I could go higher. You just set a world record.\\nHe\\'s like, \"Oh, I could go higher.\" Brian beat a lion.\\nDarius beat a tiger. Animals need to\\nstart winning. Team Human.\\nLet\\'s go. I think Team Human is going to have\\na much harder time with this next\\ncompetition. We are now in a bull arena\\nwith Bubba. Hello. - Bubba is a bull rider.\\n- Yes, sir. We are gonna release 3 bulls\\nin this arena. 3 bulls? You need to carry as many bags of\\nmoney as you can all the way to the other side\\nof the arena, with 3 bulls chasing you\\nin the process. Every dollar you get in the bucket\\nin the next 3 minutes, you keep. - I\\'m ready, Jimmy.\\n- Good luck. Release the bulls! Here they come! Bubba, please\\n      Question: According to the video who jumps higher a tiger or a man?\\n    ')"
            ]
          },
          "execution_count": 20,
          "metadata": {},
          "output_type": "execute_result"
        }
      ],
      "source": [
        "final_prompt"
      ]
    },
    {
      "cell_type": "markdown",
      "metadata": {
        "id": "MxxcV2C_DXqt"
      },
      "source": [
        "## Step 4 - Generation"
      ]
    },
    {
      "cell_type": "code",
      "execution_count": 21,
      "metadata": {
        "colab": {
          "base_uri": "https://localhost:8080/"
        },
        "id": "HX6vxSoUHBok",
        "outputId": "eade1e56-b8af-4b7e-c34b-08a4a1b0da00"
      },
      "outputs": [
        {
          "name": "stdout",
          "output_type": "stream",
          "text": [
            "According to the video, a man can jump higher than a tiger, as Brian set a new world record by jumping 12 feet, 3 inches, which is higher than the tiger's jump.\n"
          ]
        }
      ],
      "source": [
        "answer = llm.invoke(final_prompt)\n",
        "print(answer.content)"
      ]
    },
    {
      "cell_type": "markdown",
      "metadata": {
        "id": "wH2Ph0NcDlo5"
      },
      "source": [
        "## Building a Chain"
      ]
    },
    {
      "cell_type": "code",
      "execution_count": 22,
      "metadata": {
        "id": "RdTwSS3nHKRz"
      },
      "outputs": [],
      "source": [
        "from langchain_core.runnables import RunnableParallel, RunnablePassthrough, RunnableLambda\n",
        "from langchain_core.output_parsers import StrOutputParser"
      ]
    },
    {
      "cell_type": "code",
      "execution_count": 23,
      "metadata": {
        "id": "VGezE1qYQJ76"
      },
      "outputs": [],
      "source": [
        "def format_docs(retrieved_docs):\n",
        "  context_text = \"\\n\\n\".join(doc.page_content for doc in retrieved_docs)\n",
        "  return context_text"
      ]
    },
    {
      "cell_type": "code",
      "execution_count": 24,
      "metadata": {
        "id": "fmYnYqbWQWLi"
      },
      "outputs": [],
      "source": [
        "parallel_chain = RunnableParallel({\n",
        "    'context': retriever | RunnableLambda(format_docs),\n",
        "    'question': RunnablePassthrough()\n",
        "})"
      ]
    },
    {
      "cell_type": "code",
      "execution_count": 25,
      "metadata": {
        "colab": {
          "base_uri": "https://localhost:8080/"
        },
        "id": "lGI1hEvfQvLb",
        "outputId": "093b395c-69da-44d8-dbef-b313f3752687"
      },
      "outputs": [
        {
          "data": {
            "text/plain": [
              "{'context': '3 feet left. You\\'re almost\\nthere! Brian, you’re almost\\nthere! Brian won! Brian won, congrats! Yes! Brian just won! Did you have fun? Oh, ok.\\nI just— I won\\'t talk to him.\\nThat\\'s fine. But that\\'s just the first of\\nseven challenges that will test man\\nversus animal. Up next, we have the highest\\nvertical leaper on the planet. No joke.\\nThat\\'s his Guinness World Record. Of all 8 billion humans alive,\\nnone can jump higher than him. And he\\'s gonna be going against this\\ntiger to see who can jump higher… man or animal. Team Human.\\nLet’s go. Look at that majestic beast. Do you actually think you\\ncan out-jump that? I’m not gonna lie. If she jumps 13,\\nI’m jumping 13. Oh, look how she\\'s looking at him.\\nShe\\'s scoping you out. Is that a threat? She doesn\\'t speak\\nEnglish. I say we get into it. They’re gonna use this meat\\nto lure her and see if they can get her\\nto jump. - Let me see what you got, Luna.\\n- Oh, she wants it. Here it is. Here comes\\nthe jump. How high will the tiger\\n\\nto lure her and see if they can get her\\nto jump. - Let me see what you got, Luna.\\n- Oh, she wants it. Here it is. Here comes\\nthe jump. How high will the tiger\\njump? Oh my gosh! Now, if you can somehow jump\\nhigher than the tiger… I want it to be because you beat\\nyour own world record. So I\\'m not putting this\\nat 10 ft, 9 in. I\\'m going to put it\\nat 12 ft, 3 in. Exactly 1 inch higher than\\nyour Guinness World Record. If he manages to touch this,\\nnot only will he decimate the tiger, but he will set\\na new world record. I mean, I think I got it.\\n12\\' 3\"? - Yeah.\\n- I don\\'t see why not. I’m gonna be honest,\\nI think Darius is lying. I\\'m not gonna lie,\\nI dang near think I\\'m lying. This does not seem\\nhumanly possible. For the world record attempt.\\nAre you ready? Let’s get it. Let\\'s see if you can set\\nthat world record! Luna, this is for you. Can he do it? Oh my gosh!\\nWhoa, he crushed it! That was crazy! Luna, what are you gonna\\nsay to that? Bro, you just jumped higher than\\n\\nWho\\'s faster? A cheetah or one of\\nthe fastest cars in the world? Can a man beat a bear in\\na fight? Can a tiger beat the world-record\\nhigh jumper? We\\'re gonna answer all of these\\nand more— starting with the strongest man\\nin the world. And he\\'s about to test his strength\\nagainst a 500-pound lion in a game of\\ntug-of-war. Any last words? It\\'s go time. 3, 2, 1… Go! Alright and\\nwe’re off. Oh my gosh!\\nLook at his mouth! Look at that\\nbrute strength. Oh my gosh. The lion’s literally holding\\nthe strongest man in the world back right now! Wait, what is he doing? Did that lion just\\nturn around? It looks like he\\'s trying to\\nwear Brian out. Here\\'s Brian pulling\\na literal plane. But right now, he cannot get\\nthis lion to budge. He’s starting\\nto struggle! Brian\\'s actually\\ndoing this! Oh, ok. Ok. You got like\\n3 feet left. You\\'re almost\\nthere! Brian, you’re almost\\nthere! Brian won! Brian won, congrats! Yes! Brian just won! Did you have fun? Oh, ok.\\nI just— I won\\'t talk to him.\\n\\nthat world record! Luna, this is for you. Can he do it? Oh my gosh!\\nWhoa, he crushed it! That was crazy! Luna, what are you gonna\\nsay to that? Bro, you just jumped higher than\\nanyone in history. And you seem chill. Ah, I feel like\\nI can go higher. - I\\'m not gonna lie to you.\\n- Oh my gosh, this guy. I feel like I could go higher. You just set a world record.\\nHe\\'s like, \"Oh, I could go higher.\" Brian beat a lion.\\nDarius beat a tiger. Animals need to\\nstart winning. Team Human.\\nLet\\'s go. I think Team Human is going to have\\na much harder time with this next\\ncompetition. We are now in a bull arena\\nwith Bubba. Hello. - Bubba is a bull rider.\\n- Yes, sir. We are gonna release 3 bulls\\nin this arena. 3 bulls? You need to carry as many bags of\\nmoney as you can all the way to the other side\\nof the arena, with 3 bulls chasing you\\nin the process. Every dollar you get in the bucket\\nin the next 3 minutes, you keep. - I\\'m ready, Jimmy.\\n- Good luck. Release the bulls! Here they come! Bubba, please',\n",
              " 'question': 'how high does the tiger jump in the video?'}"
            ]
          },
          "execution_count": 25,
          "metadata": {},
          "output_type": "execute_result"
        }
      ],
      "source": [
        "parallel_chain.invoke('how high does the tiger jump in the video?')"
      ]
    },
    {
      "cell_type": "code",
      "execution_count": 26,
      "metadata": {
        "id": "e6osgdBfRCPN"
      },
      "outputs": [],
      "source": [
        "parser = StrOutputParser()"
      ]
    },
    {
      "cell_type": "code",
      "execution_count": 27,
      "metadata": {
        "id": "Y3e2en89QyOC"
      },
      "outputs": [],
      "source": [
        "main_chain = parallel_chain | prompt | llm | parser"
      ]
    },
    {
      "cell_type": "code",
      "execution_count": 28,
      "metadata": {
        "colab": {
          "base_uri": "https://localhost:8080/",
          "height": 122
        },
        "id": "Ur7Ph_xlRE-7",
        "outputId": "92122b01-36e9-4de4-85cb-6eb1e893a33d"
      },
      "outputs": [
        {
          "data": {
            "text/plain": [
              "\"In the video, the man jumps higher than the tiger. Brian set a new world record by jumping 12 feet, 3 inches, which was higher than the tiger's jump.\""
            ]
          },
          "execution_count": 28,
          "metadata": {},
          "output_type": "execute_result"
        }
      ],
      "source": [
        "main_chain.invoke('who jumps higher man or tiger in the video?')"
      ]
    },
    {
      "cell_type": "code",
      "execution_count": null,
      "metadata": {
        "id": "ZyERl2UwRKn6"
      },
      "outputs": [],
      "source": []
    }
  ],
  "metadata": {
    "colab": {
      "provenance": []
    },
    "kernelspec": {
      "display_name": "Python 3",
      "name": "python3"
    },
    "language_info": {
      "codemirror_mode": {
        "name": "ipython",
        "version": 3
      },
      "file_extension": ".py",
      "mimetype": "text/x-python",
      "name": "python",
      "nbconvert_exporter": "python",
      "pygments_lexer": "ipython3",
      "version": "3.10.4"
    }
  },
  "nbformat": 4,
  "nbformat_minor": 0
}
